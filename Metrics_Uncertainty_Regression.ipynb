{
 "cells": [
  {
   "cell_type": "markdown",
   "metadata": {},
   "source": [
    "# Metrics for uncertainty evaluation in regression problems\n",
    "\n",
    "How to evaluate uncertainty with Validity, Sharpness, Negative Log-Likelihood, and Continuous Ranked Probability Score (CRPS) metrics\n",
    "\n",
    "\n",
    "Many real-world problems require uncertainty estimation for future outcomes for better decision-making. However, most state-of-the-art machine learning algorithms are capable of estimating only a single-valued prediction which is usually a mean or a median of the conditional distribution which suppose to match the real outcome well. Therefore more complex approaches have been recently proposed such as **NGBoost, PGBM, Bayeasian Methods and Deep Learning, (also conformal estimation)**, that can estimate conditional distribution for each data point.\n",
    "\n",
    "Since these methods estimate the conditional distribution, arises the question of how can we evaluate such methods. Clearly, the commonly used accuracy metrics such as RMSE or MAE for single-point prediction won’t suit. Therefore, in this article, I show several approaches to evaluate models that estimate the conditional distribution and how to evaluate Quantile Regressions that do not estimate conditional distribution directly but supply prediction intervals. Specifically, I evaluate three algorithms:\n",
    "\n",
    "1. LightGBM with Quantile Regression\n",
    "2. NGBoost\n",
    "3. Probabilistic Regression Neural Networks that models mean and standard deviation. \n",
    "\n",
    "And using metrics for uncertainty evaluation:\n",
    "\n",
    "- Validity: Evaluation of the reliability of quantiles and bias in a probabilistic context\n",
    "- Sharpness: Estimating concentration of probabilities (prediction intervals)\n",
    "- Negative log Likelihood (NLL): The likelihood for the observed data to occur given the inferred parameters of the conditional distribution. \n",
    "- Continuos Ranked Probability Score (CRPS): Estimating how close the conditional distribution is to the observed point. "
   ]
  },
  {
   "cell_type": "code",
   "execution_count": 1,
   "metadata": {},
   "outputs": [
    {
     "data": {
      "text/html": [
       "<div>\n",
       "<style scoped>\n",
       "    .dataframe tbody tr th:only-of-type {\n",
       "        vertical-align: middle;\n",
       "    }\n",
       "\n",
       "    .dataframe tbody tr th {\n",
       "        vertical-align: top;\n",
       "    }\n",
       "\n",
       "    .dataframe thead th {\n",
       "        text-align: right;\n",
       "    }\n",
       "</style>\n",
       "<table border=\"1\" class=\"dataframe\">\n",
       "  <thead>\n",
       "    <tr style=\"text-align: right;\">\n",
       "      <th></th>\n",
       "      <th>MedInc</th>\n",
       "      <th>HouseAge</th>\n",
       "      <th>AveRooms</th>\n",
       "      <th>AveBedrms</th>\n",
       "      <th>Population</th>\n",
       "      <th>AveOccup</th>\n",
       "      <th>Latitude</th>\n",
       "      <th>Longitude</th>\n",
       "      <th>MedHouseVal</th>\n",
       "    </tr>\n",
       "  </thead>\n",
       "  <tbody>\n",
       "    <tr>\n",
       "      <th>0</th>\n",
       "      <td>8.3252</td>\n",
       "      <td>41.0</td>\n",
       "      <td>6.984127</td>\n",
       "      <td>1.023810</td>\n",
       "      <td>322.0</td>\n",
       "      <td>2.555556</td>\n",
       "      <td>37.88</td>\n",
       "      <td>-122.23</td>\n",
       "      <td>4.526</td>\n",
       "    </tr>\n",
       "    <tr>\n",
       "      <th>1</th>\n",
       "      <td>8.3014</td>\n",
       "      <td>21.0</td>\n",
       "      <td>6.238137</td>\n",
       "      <td>0.971880</td>\n",
       "      <td>2401.0</td>\n",
       "      <td>2.109842</td>\n",
       "      <td>37.86</td>\n",
       "      <td>-122.22</td>\n",
       "      <td>3.585</td>\n",
       "    </tr>\n",
       "    <tr>\n",
       "      <th>2</th>\n",
       "      <td>7.2574</td>\n",
       "      <td>52.0</td>\n",
       "      <td>8.288136</td>\n",
       "      <td>1.073446</td>\n",
       "      <td>496.0</td>\n",
       "      <td>2.802260</td>\n",
       "      <td>37.85</td>\n",
       "      <td>-122.24</td>\n",
       "      <td>3.521</td>\n",
       "    </tr>\n",
       "    <tr>\n",
       "      <th>3</th>\n",
       "      <td>5.6431</td>\n",
       "      <td>52.0</td>\n",
       "      <td>5.817352</td>\n",
       "      <td>1.073059</td>\n",
       "      <td>558.0</td>\n",
       "      <td>2.547945</td>\n",
       "      <td>37.85</td>\n",
       "      <td>-122.25</td>\n",
       "      <td>3.413</td>\n",
       "    </tr>\n",
       "    <tr>\n",
       "      <th>4</th>\n",
       "      <td>3.8462</td>\n",
       "      <td>52.0</td>\n",
       "      <td>6.281853</td>\n",
       "      <td>1.081081</td>\n",
       "      <td>565.0</td>\n",
       "      <td>2.181467</td>\n",
       "      <td>37.85</td>\n",
       "      <td>-122.25</td>\n",
       "      <td>3.422</td>\n",
       "    </tr>\n",
       "    <tr>\n",
       "      <th>...</th>\n",
       "      <td>...</td>\n",
       "      <td>...</td>\n",
       "      <td>...</td>\n",
       "      <td>...</td>\n",
       "      <td>...</td>\n",
       "      <td>...</td>\n",
       "      <td>...</td>\n",
       "      <td>...</td>\n",
       "      <td>...</td>\n",
       "    </tr>\n",
       "    <tr>\n",
       "      <th>20635</th>\n",
       "      <td>1.5603</td>\n",
       "      <td>25.0</td>\n",
       "      <td>5.045455</td>\n",
       "      <td>1.133333</td>\n",
       "      <td>845.0</td>\n",
       "      <td>2.560606</td>\n",
       "      <td>39.48</td>\n",
       "      <td>-121.09</td>\n",
       "      <td>0.781</td>\n",
       "    </tr>\n",
       "    <tr>\n",
       "      <th>20636</th>\n",
       "      <td>2.5568</td>\n",
       "      <td>18.0</td>\n",
       "      <td>6.114035</td>\n",
       "      <td>1.315789</td>\n",
       "      <td>356.0</td>\n",
       "      <td>3.122807</td>\n",
       "      <td>39.49</td>\n",
       "      <td>-121.21</td>\n",
       "      <td>0.771</td>\n",
       "    </tr>\n",
       "    <tr>\n",
       "      <th>20637</th>\n",
       "      <td>1.7000</td>\n",
       "      <td>17.0</td>\n",
       "      <td>5.205543</td>\n",
       "      <td>1.120092</td>\n",
       "      <td>1007.0</td>\n",
       "      <td>2.325635</td>\n",
       "      <td>39.43</td>\n",
       "      <td>-121.22</td>\n",
       "      <td>0.923</td>\n",
       "    </tr>\n",
       "    <tr>\n",
       "      <th>20638</th>\n",
       "      <td>1.8672</td>\n",
       "      <td>18.0</td>\n",
       "      <td>5.329513</td>\n",
       "      <td>1.171920</td>\n",
       "      <td>741.0</td>\n",
       "      <td>2.123209</td>\n",
       "      <td>39.43</td>\n",
       "      <td>-121.32</td>\n",
       "      <td>0.847</td>\n",
       "    </tr>\n",
       "    <tr>\n",
       "      <th>20639</th>\n",
       "      <td>2.3886</td>\n",
       "      <td>16.0</td>\n",
       "      <td>5.254717</td>\n",
       "      <td>1.162264</td>\n",
       "      <td>1387.0</td>\n",
       "      <td>2.616981</td>\n",
       "      <td>39.37</td>\n",
       "      <td>-121.24</td>\n",
       "      <td>0.894</td>\n",
       "    </tr>\n",
       "  </tbody>\n",
       "</table>\n",
       "<p>20640 rows × 9 columns</p>\n",
       "</div>"
      ],
      "text/plain": [
       "       MedInc  HouseAge  AveRooms  AveBedrms  Population  AveOccup  Latitude  \\\n",
       "0      8.3252      41.0  6.984127   1.023810       322.0  2.555556     37.88   \n",
       "1      8.3014      21.0  6.238137   0.971880      2401.0  2.109842     37.86   \n",
       "2      7.2574      52.0  8.288136   1.073446       496.0  2.802260     37.85   \n",
       "3      5.6431      52.0  5.817352   1.073059       558.0  2.547945     37.85   \n",
       "4      3.8462      52.0  6.281853   1.081081       565.0  2.181467     37.85   \n",
       "...       ...       ...       ...        ...         ...       ...       ...   \n",
       "20635  1.5603      25.0  5.045455   1.133333       845.0  2.560606     39.48   \n",
       "20636  2.5568      18.0  6.114035   1.315789       356.0  3.122807     39.49   \n",
       "20637  1.7000      17.0  5.205543   1.120092      1007.0  2.325635     39.43   \n",
       "20638  1.8672      18.0  5.329513   1.171920       741.0  2.123209     39.43   \n",
       "20639  2.3886      16.0  5.254717   1.162264      1387.0  2.616981     39.37   \n",
       "\n",
       "       Longitude  MedHouseVal  \n",
       "0        -122.23        4.526  \n",
       "1        -122.22        3.585  \n",
       "2        -122.24        3.521  \n",
       "3        -122.25        3.413  \n",
       "4        -122.25        3.422  \n",
       "...          ...          ...  \n",
       "20635    -121.09        0.781  \n",
       "20636    -121.21        0.771  \n",
       "20637    -121.22        0.923  \n",
       "20638    -121.32        0.847  \n",
       "20639    -121.24        0.894  \n",
       "\n",
       "[20640 rows x 9 columns]"
      ]
     },
     "execution_count": 1,
     "metadata": {},
     "output_type": "execute_result"
    }
   ],
   "source": [
    "from sklearn.datasets import fetch_california_housing\n",
    "\n",
    "california_housing = fetch_california_housing(as_frame=True)\n",
    "\n",
    "data = california_housing.frame\n",
    "data"
   ]
  },
  {
   "cell_type": "code",
   "execution_count": 2,
   "metadata": {},
   "outputs": [
    {
     "data": {
      "text/plain": [
       "0        4.526\n",
       "1        3.585\n",
       "2        3.521\n",
       "3        3.413\n",
       "4        3.422\n",
       "         ...  \n",
       "20635    0.781\n",
       "20636    0.771\n",
       "20637    0.923\n",
       "20638    0.847\n",
       "20639    0.894\n",
       "Name: MedHouseVal, Length: 20640, dtype: float64"
      ]
     },
     "execution_count": 2,
     "metadata": {},
     "output_type": "execute_result"
    }
   ],
   "source": [
    "target = california_housing.target\n",
    "target"
   ]
  },
  {
   "cell_type": "code",
   "execution_count": 3,
   "metadata": {},
   "outputs": [],
   "source": [
    "data.drop(labels=['MedHouseVal'],axis=1,inplace=True)"
   ]
  },
  {
   "cell_type": "code",
   "execution_count": 4,
   "metadata": {},
   "outputs": [],
   "source": [
    "from sklearn.model_selection import train_test_split\n",
    "from sklearn.preprocessing import StandardScaler\n",
    "\n",
    "X_train, X_test, y_train, y_test = train_test_split(data, target, test_size=0.2, random_state=42, shuffle=True)\n",
    "x_scaler = StandardScaler()\n",
    "X_train_scaled = x_scaler.fit_transform(X_train)\n",
    "X_test_scaled = x_scaler.transform(X_test)"
   ]
  },
  {
   "cell_type": "markdown",
   "metadata": {},
   "source": [
    "## LightGBM with Quantile Regression\n",
    "\n",
    "Probably, the most straightforward way to get prediction intervals using existing algorithms is to build at least two quantile regression models to target some low and high conditional quantiles. For example, a 90% prediction interval would require fitting two quantile regressions with 5% and 95% quantile levels. Fortunately, LightGBM implements quantile regression. Lets define 13 quantile levels and build 14 models. The one which predicts the expected mean of median prices and the rest 13 models predict median prices at given quantile levels:"
   ]
  },
  {
   "cell_type": "code",
   "execution_count": 5,
   "metadata": {},
   "outputs": [
    {
     "name": "stderr",
     "output_type": "stream",
     "text": [
      "/home/bruno/miniconda3/envs/bru_ds/lib/python3.8/site-packages/dask/dataframe/utils.py:367: FutureWarning: pandas.Int64Index is deprecated and will be removed from pandas in a future version. Use pandas.Index with the appropriate dtype instead.\n",
      "  _numeric_index_types = (pd.Int64Index, pd.Float64Index, pd.UInt64Index)\n",
      "/home/bruno/miniconda3/envs/bru_ds/lib/python3.8/site-packages/dask/dataframe/utils.py:367: FutureWarning: pandas.Float64Index is deprecated and will be removed from pandas in a future version. Use pandas.Index with the appropriate dtype instead.\n",
      "  _numeric_index_types = (pd.Int64Index, pd.Float64Index, pd.UInt64Index)\n",
      "/home/bruno/miniconda3/envs/bru_ds/lib/python3.8/site-packages/dask/dataframe/utils.py:367: FutureWarning: pandas.UInt64Index is deprecated and will be removed from pandas in a future version. Use pandas.Index with the appropriate dtype instead.\n",
      "  _numeric_index_types = (pd.Int64Index, pd.Float64Index, pd.UInt64Index)\n"
     ]
    },
    {
     "name": "stdout",
     "output_type": "stream",
     "text": [
      "[LightGBM] [Warning] Auto-choosing row-wise multi-threading, the overhead of testing was 0.030483 seconds.\n",
      "You can set `force_row_wise=true` to remove the overhead.\n",
      "And if memory is not enough, you can set `force_col_wise=true`.\n",
      "[LightGBM] [Info] Total Bins 1838\n",
      "[LightGBM] [Info] Number of data points in the train set: 16512, number of used features: 8\n",
      "[LightGBM] [Info] Start training from score 2.071947\n",
      "modeling quantile 0.05\n",
      "[LightGBM] [Warning] Auto-choosing row-wise multi-threading, the overhead of testing was 0.000385 seconds.\n",
      "You can set `force_row_wise=true` to remove the overhead.\n",
      "And if memory is not enough, you can set `force_col_wise=true`.\n",
      "[LightGBM] [Info] Total Bins 1838\n",
      "[LightGBM] [Info] Number of data points in the train set: 16512, number of used features: 8\n",
      "[LightGBM] [Info] Start training from score 0.665000\n",
      "modeling quantile 0.1\n",
      "[LightGBM] [Warning] Auto-choosing col-wise multi-threading, the overhead of testing was 0.000827 seconds.\n",
      "You can set `force_col_wise=true` to remove the overhead.\n",
      "[LightGBM] [Info] Total Bins 1838\n",
      "[LightGBM] [Info] Number of data points in the train set: 16512, number of used features: 8\n",
      "[LightGBM] [Info] Start training from score 0.825000\n",
      "modeling quantile 0.15\n",
      "[LightGBM] [Warning] Auto-choosing col-wise multi-threading, the overhead of testing was 0.000874 seconds.\n",
      "You can set `force_col_wise=true` to remove the overhead.\n",
      "[LightGBM] [Info] Total Bins 1838\n",
      "[LightGBM] [Info] Number of data points in the train set: 16512, number of used features: 8\n",
      "[LightGBM] [Info] Start training from score 0.944800\n",
      "modeling quantile 0.2\n",
      "[LightGBM] [Warning] Auto-choosing col-wise multi-threading, the overhead of testing was 0.001422 seconds.\n",
      "You can set `force_col_wise=true` to remove the overhead.\n",
      "[LightGBM] [Info] Total Bins 1838\n",
      "[LightGBM] [Info] Number of data points in the train set: 16512, number of used features: 8\n",
      "[LightGBM] [Info] Start training from score 1.073000\n",
      "modeling quantile 0.3\n",
      "[LightGBM] [Warning] Auto-choosing row-wise multi-threading, the overhead of testing was 0.012061 seconds.\n",
      "You can set `force_row_wise=true` to remove the overhead.\n",
      "And if memory is not enough, you can set `force_col_wise=true`.\n",
      "[LightGBM] [Info] Total Bins 1838\n",
      "[LightGBM] [Info] Number of data points in the train set: 16512, number of used features: 8\n",
      "[LightGBM] [Info] Start training from score 1.339000\n",
      "modeling quantile 0.4\n",
      "[LightGBM] [Warning] Auto-choosing col-wise multi-threading, the overhead of testing was 0.010985 seconds.\n",
      "You can set `force_col_wise=true` to remove the overhead.\n",
      "[LightGBM] [Info] Total Bins 1838\n",
      "[LightGBM] [Info] Number of data points in the train set: 16512, number of used features: 8\n",
      "[LightGBM] [Info] Start training from score 1.573000\n",
      "modeling quantile 0.5\n",
      "[LightGBM] [Warning] Auto-choosing col-wise multi-threading, the overhead of testing was 0.035923 seconds.\n",
      "You can set `force_col_wise=true` to remove the overhead.\n",
      "[LightGBM] [Info] Total Bins 1838\n",
      "[LightGBM] [Info] Number of data points in the train set: 16512, number of used features: 8\n",
      "[LightGBM] [Info] Start training from score 1.799000\n",
      "modeling quantile 0.6\n",
      "[LightGBM] [Warning] Auto-choosing col-wise multi-threading, the overhead of testing was 0.074106 seconds.\n",
      "You can set `force_col_wise=true` to remove the overhead.\n",
      "[LightGBM] [Info] Total Bins 1838\n",
      "[LightGBM] [Info] Number of data points in the train set: 16512, number of used features: 8\n",
      "[LightGBM] [Info] Start training from score 2.098000\n",
      "modeling quantile 0.7\n",
      "[LightGBM] [Warning] Auto-choosing col-wise multi-threading, the overhead of testing was 0.001937 seconds.\n",
      "You can set `force_col_wise=true` to remove the overhead.\n",
      "[LightGBM] [Info] Total Bins 1838\n",
      "[LightGBM] [Info] Number of data points in the train set: 16512, number of used features: 8\n",
      "[LightGBM] [Info] Start training from score 2.428000\n",
      "modeling quantile 0.8\n",
      "[LightGBM] [Warning] Auto-choosing col-wise multi-threading, the overhead of testing was 0.025201 seconds.\n",
      "You can set `force_col_wise=true` to remove the overhead.\n",
      "[LightGBM] [Info] Total Bins 1838\n",
      "[LightGBM] [Info] Number of data points in the train set: 16512, number of used features: 8\n",
      "[LightGBM] [Info] Start training from score 2.908600\n",
      "modeling quantile 0.85\n",
      "[LightGBM] [Warning] Auto-choosing col-wise multi-threading, the overhead of testing was 0.028384 seconds.\n",
      "You can set `force_col_wise=true` to remove the overhead.\n",
      "[LightGBM] [Info] Total Bins 1838\n",
      "[LightGBM] [Info] Number of data points in the train set: 16512, number of used features: 8\n",
      "[LightGBM] [Info] Start training from score 3.327200\n",
      "modeling quantile 0.9\n",
      "[LightGBM] [Warning] Auto-choosing col-wise multi-threading, the overhead of testing was 0.000804 seconds.\n",
      "You can set `force_col_wise=true` to remove the overhead.\n",
      "[LightGBM] [Info] Total Bins 1838\n",
      "[LightGBM] [Info] Number of data points in the train set: 16512, number of used features: 8\n",
      "[LightGBM] [Info] Start training from score 3.772000\n",
      "modeling quantile 0.95\n",
      "[LightGBM] [Warning] Auto-choosing row-wise multi-threading, the overhead of testing was 0.012241 seconds.\n",
      "You can set `force_row_wise=true` to remove the overhead.\n",
      "And if memory is not enough, you can set `force_col_wise=true`.\n",
      "[LightGBM] [Info] Total Bins 1838\n",
      "[LightGBM] [Info] Number of data points in the train set: 16512, number of used features: 8\n",
      "[LightGBM] [Info] Start training from score 4.949799\n"
     ]
    }
   ],
   "source": [
    "import lightgbm as lgb\n",
    "\n",
    "quantiles = [0.05, 0.1, 0.15, 0.2, 0.3, \n",
    "             0.4, 0.5, 0.6, 0.7, 0.8, \n",
    "             0.85, 0.9, 0.95]\n",
    "#save quantile predictions\n",
    "quantile_predictions = {}\n",
    "train_data = lgb.Dataset(X_train, \n",
    "                         label=y_train, \n",
    "                         free_raw_data=False)\n",
    "#first model that predicts expected mean\n",
    "params = {'objective': 'regression'}\n",
    "lgb_model = lgb.train(params=params, \n",
    "                      train_set=train_data, \n",
    "                      num_boost_round=100)\n",
    "lgb_prediction = lgb_model.predict(X_test)\n",
    "#train models on quantiles\n",
    "for quantile in quantiles:\n",
    "    print(f\"modeling quantile {quantile}\")\n",
    "    params = {'objective': 'quantile', 'alpha': quantile}\n",
    "    lgb_model = lgb.train(params=params, \n",
    "                          train_set=train_data, \n",
    "                          num_boost_round=100)\n",
    "    pred = lgb_model.predict(X_test)\n",
    "    \n",
    "    quantile_predictions[quantile] = pred"
   ]
  },
  {
   "cell_type": "markdown",
   "metadata": {},
   "source": [
    "## NGBoost"
   ]
  },
  {
   "cell_type": "code",
   "execution_count": 6,
   "metadata": {},
   "outputs": [
    {
     "name": "stdout",
     "output_type": "stream",
     "text": [
      "[iter 0] loss=1.5641 val_loss=0.0000 scale=1.0000 norm=1.1069\n",
      "[iter 100] loss=1.1394 val_loss=0.0000 scale=1.0000 norm=0.7776\n",
      "[iter 200] loss=0.9107 val_loss=0.0000 scale=1.0000 norm=0.6995\n",
      "[iter 300] loss=0.7671 val_loss=0.0000 scale=1.0000 norm=0.6786\n",
      "[iter 400] loss=0.6921 val_loss=0.0000 scale=1.0000 norm=0.6780\n"
     ]
    }
   ],
   "source": [
    "from ngboost import NGBoost\n",
    "from ngboost import learners\n",
    "from ngboost import distns\n",
    "from ngboost.scores import LogScore\n",
    "\n",
    "ngb = NGBoost(Base=learners.default_tree_learner, Dist=distns.Normal, Score=LogScore, natural_gradient=True, verbose=True)\n",
    "ngb.fit(X_train, y_train)\n",
    "#predicted mean\n",
    "ngb_mean_pred = ngb.predict(X_test)\n",
    "#predicted distribution parameters\n",
    "ngb_dist_pred = ngb.pred_dist(X_test)"
   ]
  },
  {
   "cell_type": "markdown",
   "metadata": {},
   "source": [
    "## Regression Neural Network\n",
    "\n",
    "Regression Neural Network estimates parameters of the conditional (normal) distribution using [TensorFlow Probability framework](https://www.tensorflow.org/probability/).\n",
    "\n",
    "Below is the architecture of the neural network:\n",
    "\n",
    "The loss function is defined as a negative log-likelihood of the underlying normal distribution:"
   ]
  },
  {
   "cell_type": "code",
   "execution_count": 8,
   "metadata": {},
   "outputs": [],
   "source": [
    "from tensorflow.keras import layers, models, optimizers\n",
    "from tensorflow_probability import distributions as tfd\n",
    "import tensorflow_probability as tfp\n",
    "from tensorflow import math\n",
    "\n",
    "def nll_loss(y, distr):\n",
    "    return -distr.log_prob(y)\n",
    "\n",
    "\n",
    "def model_distribution(params): \n",
    "    return tfd.Normal(loc=params[:,0:1],   \n",
    "                      scale=math.softplus(params[:,1:2]))"
   ]
  },
  {
   "cell_type": "markdown",
   "metadata": {},
   "source": [
    "The mean:"
   ]
  },
  {
   "cell_type": "code",
   "execution_count": 9,
   "metadata": {},
   "outputs": [],
   "source": [
    "inputs = layers.Input(shape=((len(X_test.columns),)))\n",
    "hidden1 = layers.Dense(100, activation = \"relu\", name = \"dense_mean_1\")(inputs)\n",
    "hidden2 = layers.Dense(50, activation = \"relu\", name = \"dense_mean_2\")(hidden1)\n",
    "output_mean = layers.Dense(1, name = \"mean_output\")(hidden2)"
   ]
  },
  {
   "cell_type": "markdown",
   "metadata": {},
   "source": [
    "The standard deviation:"
   ]
  },
  {
   "cell_type": "code",
   "execution_count": 10,
   "metadata": {},
   "outputs": [],
   "source": [
    "hidden1 = layers.Dense(100,activation=\"relu\", name = \"dense_sd_1\")(inputs)\n",
    "hidden1 = layers.Dropout(0.1)(hidden1)\n",
    "hidden2 = layers.Dense(50,activation=\"relu\", name = \"dense_sd_2\")(hidden1)\n",
    "hidden2 = layers.Dropout(0.1)(hidden2)\n",
    "hidden3 = layers.Dense(20,activation=\"relu\", name = \"dense_sd_3\")(hidden2)\n",
    "output_sd = layers.Dense(1, name = \"sd_output\")(hidden3)"
   ]
  },
  {
   "cell_type": "markdown",
   "metadata": {},
   "source": [
    "Both are concatenated and propagated into the distribution layer:"
   ]
  },
  {
   "cell_type": "code",
   "execution_count": 11,
   "metadata": {},
   "outputs": [],
   "source": [
    "mean_sd_layer = layers.Concatenate(name = \"mean_sd_concat\")([output_mean, output_sd]) \n",
    "dist = tfp.layers.DistributionLambda(model_distribution)(mean_sd_layer)"
   ]
  },
  {
   "cell_type": "code",
   "execution_count": 12,
   "metadata": {},
   "outputs": [
    {
     "name": "stdout",
     "output_type": "stream",
     "text": [
      "Epoch 1/150\n",
      "129/129 [==============================] - 7s 24ms/step - loss: 3.2747 - val_loss: 2.3043\n",
      "Epoch 2/150\n",
      "129/129 [==============================] - 2s 14ms/step - loss: 2.0732 - val_loss: 1.8762\n",
      "Epoch 3/150\n",
      "129/129 [==============================] - 1s 11ms/step - loss: 1.7926 - val_loss: 1.7035\n",
      "Epoch 4/150\n",
      "129/129 [==============================] - 2s 14ms/step - loss: 1.6597 - val_loss: 1.6024\n",
      "Epoch 5/150\n",
      "129/129 [==============================] - 2s 15ms/step - loss: 1.5716 - val_loss: 1.5307\n",
      "Epoch 6/150\n",
      "129/129 [==============================] - 2s 14ms/step - loss: 1.5080 - val_loss: 1.4752\n",
      "Epoch 7/150\n",
      "129/129 [==============================] - 2s 12ms/step - loss: 1.4577 - val_loss: 1.4311\n",
      "Epoch 8/150\n",
      "129/129 [==============================] - 2s 15ms/step - loss: 1.4187 - val_loss: 1.3964\n",
      "Epoch 9/150\n",
      "129/129 [==============================] - 2s 18ms/step - loss: 1.3970 - val_loss: 1.3714\n",
      "Epoch 10/150\n",
      "129/129 [==============================] - 2s 19ms/step - loss: 1.3633 - val_loss: 1.3492\n",
      "Epoch 11/150\n",
      "129/129 [==============================] - 3s 19ms/step - loss: 1.3436 - val_loss: 1.3307\n",
      "Epoch 12/150\n",
      "129/129 [==============================] - 3s 26ms/step - loss: 1.3234 - val_loss: 1.3140\n",
      "Epoch 13/150\n",
      "129/129 [==============================] - 2s 19ms/step - loss: 1.3090 - val_loss: 1.2994\n",
      "Epoch 14/150\n",
      "129/129 [==============================] - 4s 30ms/step - loss: 1.2943 - val_loss: 1.2856\n",
      "Epoch 15/150\n",
      "129/129 [==============================] - 4s 31ms/step - loss: 1.2828 - val_loss: 1.2733\n",
      "Epoch 16/150\n",
      "129/129 [==============================] - 3s 20ms/step - loss: 1.2659 - val_loss: 1.2611\n",
      "Epoch 17/150\n",
      "129/129 [==============================] - 3s 24ms/step - loss: 1.2543 - val_loss: 1.2494\n",
      "Epoch 18/150\n",
      "129/129 [==============================] - 2s 16ms/step - loss: 1.2501 - val_loss: 1.2394\n",
      "Epoch 19/150\n",
      "129/129 [==============================] - 2s 18ms/step - loss: 1.2305 - val_loss: 1.2291\n",
      "Epoch 20/150\n",
      "129/129 [==============================] - 2s 16ms/step - loss: 1.2189 - val_loss: 1.2191\n",
      "Epoch 21/150\n",
      "129/129 [==============================] - 2s 16ms/step - loss: 1.2127 - val_loss: 1.2102\n",
      "Epoch 22/150\n",
      "129/129 [==============================] - 2s 17ms/step - loss: 1.2023 - val_loss: 1.2008\n",
      "Epoch 23/150\n",
      "129/129 [==============================] - 2s 15ms/step - loss: 1.1946 - val_loss: 1.1922\n",
      "Epoch 24/150\n",
      "129/129 [==============================] - 2s 16ms/step - loss: 1.1798 - val_loss: 1.1832\n",
      "Epoch 25/150\n",
      "129/129 [==============================] - 2s 13ms/step - loss: 1.1717 - val_loss: 1.1744\n",
      "Epoch 26/150\n",
      "129/129 [==============================] - 2s 17ms/step - loss: 1.1622 - val_loss: 1.1659\n",
      "Epoch 27/150\n",
      "129/129 [==============================] - 2s 17ms/step - loss: 1.1541 - val_loss: 1.1577\n",
      "Epoch 28/150\n",
      "129/129 [==============================] - 2s 17ms/step - loss: 1.1562 - val_loss: 1.1503\n",
      "Epoch 29/150\n",
      "129/129 [==============================] - 2s 14ms/step - loss: 1.1363 - val_loss: 1.1426\n",
      "Epoch 30/150\n",
      "129/129 [==============================] - 2s 16ms/step - loss: 1.1275 - val_loss: 1.1352\n",
      "Epoch 31/150\n",
      "129/129 [==============================] - 2s 17ms/step - loss: 1.1218 - val_loss: 1.1284\n",
      "Epoch 32/150\n",
      "129/129 [==============================] - 2s 13ms/step - loss: 1.1313 - val_loss: 1.1229\n",
      "Epoch 33/150\n",
      "129/129 [==============================] - 2s 14ms/step - loss: 1.1106 - val_loss: 1.1166\n",
      "Epoch 34/150\n",
      "129/129 [==============================] - 2s 19ms/step - loss: 1.1040 - val_loss: 1.1105\n",
      "Epoch 35/150\n",
      "129/129 [==============================] - 2s 15ms/step - loss: 1.0943 - val_loss: 1.1046\n",
      "Epoch 36/150\n",
      "129/129 [==============================] - 2s 15ms/step - loss: 1.0879 - val_loss: 1.0989\n",
      "Epoch 37/150\n",
      "129/129 [==============================] - 2s 17ms/step - loss: 1.0836 - val_loss: 1.0934\n",
      "Epoch 38/150\n",
      "129/129 [==============================] - 2s 13ms/step - loss: 1.0802 - val_loss: 1.0881\n",
      "Epoch 39/150\n",
      "129/129 [==============================] - 2s 18ms/step - loss: 1.0733 - val_loss: 1.0829\n",
      "Epoch 40/150\n",
      "129/129 [==============================] - 2s 17ms/step - loss: 1.0671 - val_loss: 1.0778\n",
      "Epoch 41/150\n",
      "129/129 [==============================] - 2s 17ms/step - loss: 1.0652 - val_loss: 1.0730\n",
      "Epoch 42/150\n",
      "129/129 [==============================] - 2s 14ms/step - loss: 1.0613 - val_loss: 1.0683\n",
      "Epoch 43/150\n",
      "129/129 [==============================] - 2s 16ms/step - loss: 1.0523 - val_loss: 1.0636\n",
      "Epoch 44/150\n",
      "129/129 [==============================] - 2s 14ms/step - loss: 1.0472 - val_loss: 1.0589\n",
      "Epoch 45/150\n",
      "129/129 [==============================] - 2s 15ms/step - loss: 1.0411 - val_loss: 1.0544\n",
      "Epoch 46/150\n",
      "129/129 [==============================] - 2s 15ms/step - loss: 1.0397 - val_loss: 1.0500\n",
      "Epoch 47/150\n",
      "129/129 [==============================] - 2s 14ms/step - loss: 1.0340 - val_loss: 1.0456\n",
      "Epoch 48/150\n",
      "129/129 [==============================] - 2s 15ms/step - loss: 1.0314 - val_loss: 1.0413\n",
      "Epoch 49/150\n",
      "129/129 [==============================] - 2s 15ms/step - loss: 1.0241 - val_loss: 1.0371\n",
      "Epoch 50/150\n",
      "129/129 [==============================] - 2s 17ms/step - loss: 1.0181 - val_loss: 1.0329\n",
      "Epoch 51/150\n",
      "129/129 [==============================] - 2s 15ms/step - loss: 1.0172 - val_loss: 1.0289\n",
      "Epoch 52/150\n",
      "129/129 [==============================] - 2s 16ms/step - loss: 1.0142 - val_loss: 1.0250\n",
      "Epoch 53/150\n",
      "129/129 [==============================] - 2s 17ms/step - loss: 1.0094 - val_loss: 1.0211\n",
      "Epoch 54/150\n",
      "129/129 [==============================] - 2s 15ms/step - loss: 1.0059 - val_loss: 1.0171\n",
      "Epoch 55/150\n",
      "129/129 [==============================] - 2s 18ms/step - loss: 1.0019 - val_loss: 1.0133\n",
      "Epoch 56/150\n",
      "129/129 [==============================] - 2s 17ms/step - loss: 1.0707 - val_loss: 1.0094\n",
      "Epoch 57/150\n",
      "129/129 [==============================] - 2s 15ms/step - loss: 0.9958 - val_loss: 1.0057\n",
      "Epoch 58/150\n",
      "129/129 [==============================] - 2s 15ms/step - loss: 0.9903 - val_loss: 1.0022\n",
      "Epoch 59/150\n",
      "129/129 [==============================] - 2s 15ms/step - loss: 0.9857 - val_loss: 0.9987\n",
      "Epoch 60/150\n",
      "129/129 [==============================] - 2s 14ms/step - loss: 0.9851 - val_loss: 0.9954\n",
      "Epoch 61/150\n",
      "129/129 [==============================] - 2s 16ms/step - loss: 0.9813 - val_loss: 0.9922\n",
      "Epoch 62/150\n",
      "129/129 [==============================] - 2s 17ms/step - loss: 0.9773 - val_loss: 0.9890\n",
      "Epoch 63/150\n",
      "129/129 [==============================] - 2s 15ms/step - loss: 0.9763 - val_loss: 0.9859\n",
      "Epoch 64/150\n",
      "129/129 [==============================] - 2s 13ms/step - loss: 0.9717 - val_loss: 0.9830\n",
      "Epoch 65/150\n",
      "129/129 [==============================] - 2s 15ms/step - loss: 0.9684 - val_loss: 0.9800\n",
      "Epoch 66/150\n",
      "129/129 [==============================] - 2s 15ms/step - loss: 0.9656 - val_loss: 0.9770\n",
      "Epoch 67/150\n",
      "129/129 [==============================] - 2s 16ms/step - loss: 0.9665 - val_loss: 0.9742\n",
      "Epoch 68/150\n",
      "129/129 [==============================] - 2s 15ms/step - loss: 0.9600 - val_loss: 0.9714\n",
      "Epoch 69/150\n",
      "129/129 [==============================] - 2s 17ms/step - loss: 0.9580 - val_loss: 0.9686\n",
      "Epoch 70/150\n",
      "129/129 [==============================] - 2s 16ms/step - loss: 1.0475 - val_loss: 0.9687\n",
      "Epoch 71/150\n",
      "129/129 [==============================] - 2s 16ms/step - loss: 0.9534 - val_loss: 0.9649\n",
      "Epoch 72/150\n",
      "129/129 [==============================] - 2s 16ms/step - loss: 0.9532 - val_loss: 0.9624\n",
      "Epoch 73/150\n",
      "129/129 [==============================] - 2s 14ms/step - loss: 0.9482 - val_loss: 0.9600\n",
      "Epoch 74/150\n",
      "129/129 [==============================] - 2s 17ms/step - loss: 0.9490 - val_loss: 0.9577\n",
      "Epoch 75/150\n",
      "129/129 [==============================] - 2s 17ms/step - loss: 0.9485 - val_loss: 0.9554\n",
      "Epoch 76/150\n",
      "129/129 [==============================] - 2s 14ms/step - loss: 0.9605 - val_loss: 0.9541\n",
      "Epoch 77/150\n",
      "129/129 [==============================] - 2s 15ms/step - loss: 0.9382 - val_loss: 0.9519\n",
      "Epoch 78/150\n",
      "129/129 [==============================] - 2s 15ms/step - loss: 0.9392 - val_loss: 0.9497\n",
      "Epoch 79/150\n",
      "129/129 [==============================] - 2s 14ms/step - loss: 0.9389 - val_loss: 0.9477\n",
      "Epoch 80/150\n",
      "129/129 [==============================] - 2s 15ms/step - loss: 0.9355 - val_loss: 0.9457\n",
      "Epoch 81/150\n",
      "129/129 [==============================] - 2s 16ms/step - loss: 0.9367 - val_loss: 0.9439\n",
      "Epoch 82/150\n",
      "129/129 [==============================] - 2s 16ms/step - loss: 0.9337 - val_loss: 0.9421\n",
      "Epoch 83/150\n",
      "129/129 [==============================] - 2s 15ms/step - loss: 0.9326 - val_loss: 0.9404\n",
      "Epoch 84/150\n",
      "129/129 [==============================] - 2s 16ms/step - loss: 0.9257 - val_loss: 0.9386\n",
      "Epoch 85/150\n",
      "129/129 [==============================] - 2s 14ms/step - loss: 0.9280 - val_loss: 0.9368\n",
      "Epoch 86/150\n",
      "129/129 [==============================] - 2s 14ms/step - loss: 0.9287 - val_loss: 0.9351\n",
      "Epoch 87/150\n",
      "129/129 [==============================] - 2s 16ms/step - loss: 0.9242 - val_loss: 0.9334\n",
      "Epoch 88/150\n",
      "129/129 [==============================] - 2s 16ms/step - loss: 0.9216 - val_loss: 0.9319\n",
      "Epoch 89/150\n",
      "129/129 [==============================] - 2s 18ms/step - loss: 0.9229 - val_loss: 0.9303\n",
      "Epoch 90/150\n",
      "129/129 [==============================] - 2s 15ms/step - loss: 0.9194 - val_loss: 0.9287\n",
      "Epoch 91/150\n",
      "129/129 [==============================] - 2s 16ms/step - loss: 0.9184 - val_loss: 0.9271\n",
      "Epoch 92/150\n",
      "129/129 [==============================] - 2s 15ms/step - loss: 0.9211 - val_loss: 0.9255\n",
      "Epoch 93/150\n",
      "129/129 [==============================] - 3s 24ms/step - loss: 0.9205 - val_loss: 0.9241\n",
      "Epoch 94/150\n",
      "129/129 [==============================] - 2s 17ms/step - loss: 0.9116 - val_loss: 0.9227\n",
      "Epoch 95/150\n",
      "129/129 [==============================] - 2s 14ms/step - loss: 0.9149 - val_loss: 0.9213\n",
      "Epoch 96/150\n",
      "129/129 [==============================] - 2s 16ms/step - loss: 0.9116 - val_loss: 0.9199\n",
      "Epoch 97/150\n",
      "129/129 [==============================] - 2s 15ms/step - loss: 0.9129 - val_loss: 0.9184\n",
      "Epoch 98/150\n",
      "129/129 [==============================] - 2s 15ms/step - loss: 0.9130 - val_loss: 0.9170\n",
      "Epoch 99/150\n",
      "129/129 [==============================] - 2s 16ms/step - loss: 0.9054 - val_loss: 0.9158\n",
      "Epoch 100/150\n",
      "129/129 [==============================] - 2s 15ms/step - loss: 0.9068 - val_loss: 0.9145\n",
      "Epoch 101/150\n",
      "129/129 [==============================] - 2s 16ms/step - loss: 0.9052 - val_loss: 0.9133\n",
      "Epoch 102/150\n",
      "129/129 [==============================] - 2s 16ms/step - loss: 0.9016 - val_loss: 0.9121\n",
      "Epoch 103/150\n",
      "129/129 [==============================] - 2s 15ms/step - loss: 0.9024 - val_loss: 0.9108\n",
      "Epoch 104/150\n",
      "129/129 [==============================] - 2s 16ms/step - loss: 0.9050 - val_loss: 0.9096\n",
      "Epoch 105/150\n",
      "129/129 [==============================] - 2s 16ms/step - loss: 0.8986 - val_loss: 0.9085\n",
      "Epoch 106/150\n",
      "129/129 [==============================] - 2s 14ms/step - loss: 0.8996 - val_loss: 0.9073\n",
      "Epoch 107/150\n",
      "129/129 [==============================] - 2s 17ms/step - loss: 0.9084 - val_loss: 0.9065\n",
      "Epoch 108/150\n",
      "129/129 [==============================] - 2s 15ms/step - loss: 0.8983 - val_loss: 0.9052\n",
      "Epoch 109/150\n",
      "129/129 [==============================] - 2s 16ms/step - loss: 0.8953 - val_loss: 0.9041\n",
      "Epoch 110/150\n",
      "129/129 [==============================] - 2s 16ms/step - loss: 0.8920 - val_loss: 0.9031\n",
      "Epoch 111/150\n",
      "129/129 [==============================] - 2s 16ms/step - loss: 0.8930 - val_loss: 0.9020\n",
      "Epoch 112/150\n",
      "129/129 [==============================] - 2s 15ms/step - loss: 0.8945 - val_loss: 0.9010\n",
      "Epoch 113/150\n",
      "129/129 [==============================] - 2s 15ms/step - loss: 0.8950 - val_loss: 0.9000\n",
      "Epoch 114/150\n",
      "129/129 [==============================] - 2s 17ms/step - loss: 0.8941 - val_loss: 0.8990\n",
      "Epoch 115/150\n",
      "129/129 [==============================] - 2s 15ms/step - loss: 0.8876 - val_loss: 0.8980\n",
      "Epoch 116/150\n",
      "129/129 [==============================] - 2s 15ms/step - loss: 0.8856 - val_loss: 0.8971\n",
      "Epoch 117/150\n",
      "129/129 [==============================] - 2s 15ms/step - loss: 0.8869 - val_loss: 0.8962\n",
      "Epoch 118/150\n",
      "129/129 [==============================] - 2s 16ms/step - loss: 0.8879 - val_loss: 0.8952\n",
      "Epoch 119/150\n",
      "129/129 [==============================] - 2s 14ms/step - loss: 0.8854 - val_loss: 0.8942\n",
      "Epoch 120/150\n",
      "129/129 [==============================] - 2s 14ms/step - loss: 0.8853 - val_loss: 0.8933\n",
      "Epoch 121/150\n",
      "129/129 [==============================] - 2s 16ms/step - loss: 0.8851 - val_loss: 0.8924\n",
      "Epoch 122/150\n",
      "129/129 [==============================] - 2s 14ms/step - loss: 0.8839 - val_loss: 0.8915\n",
      "Epoch 123/150\n",
      "129/129 [==============================] - 2s 15ms/step - loss: 0.8826 - val_loss: 0.8906\n",
      "Epoch 124/150\n",
      "129/129 [==============================] - 2s 16ms/step - loss: 0.8827 - val_loss: 0.8897\n",
      "Epoch 125/150\n",
      "129/129 [==============================] - 2s 15ms/step - loss: 0.8822 - val_loss: 0.8888\n",
      "Epoch 126/150\n",
      "129/129 [==============================] - 2s 15ms/step - loss: 0.8833 - val_loss: 0.8880\n",
      "Epoch 127/150\n",
      "129/129 [==============================] - 2s 18ms/step - loss: 0.8793 - val_loss: 0.8871\n",
      "Epoch 128/150\n",
      "129/129 [==============================] - 2s 14ms/step - loss: 0.8789 - val_loss: 0.8863\n",
      "Epoch 129/150\n",
      "129/129 [==============================] - 2s 16ms/step - loss: 0.8824 - val_loss: 0.8855\n",
      "Epoch 130/150\n",
      "129/129 [==============================] - 2s 18ms/step - loss: 0.8840 - val_loss: 0.8848\n",
      "Epoch 131/150\n",
      "129/129 [==============================] - 2s 16ms/step - loss: 0.8751 - val_loss: 0.8841\n",
      "Epoch 132/150\n",
      "129/129 [==============================] - 2s 16ms/step - loss: 0.8777 - val_loss: 0.8833\n",
      "Epoch 133/150\n",
      "129/129 [==============================] - 2s 15ms/step - loss: 0.8756 - val_loss: 0.8826\n",
      "Epoch 134/150\n",
      "129/129 [==============================] - 2s 16ms/step - loss: 0.8763 - val_loss: 0.8818\n",
      "Epoch 135/150\n",
      "129/129 [==============================] - 2s 13ms/step - loss: 0.8716 - val_loss: 0.8811\n",
      "Epoch 136/150\n",
      "129/129 [==============================] - 2s 16ms/step - loss: 0.8727 - val_loss: 0.8804\n",
      "Epoch 137/150\n",
      "129/129 [==============================] - 2s 15ms/step - loss: 0.8718 - val_loss: 0.8797\n",
      "Epoch 138/150\n",
      "129/129 [==============================] - 2s 14ms/step - loss: 0.8747 - val_loss: 0.8789\n",
      "Epoch 139/150\n",
      "129/129 [==============================] - 2s 15ms/step - loss: 0.8689 - val_loss: 0.8782\n",
      "Epoch 140/150\n",
      "129/129 [==============================] - 2s 18ms/step - loss: 0.8716 - val_loss: 0.8775\n",
      "Epoch 141/150\n",
      "129/129 [==============================] - 3s 20ms/step - loss: 0.8674 - val_loss: 0.8768\n",
      "Epoch 142/150\n",
      "129/129 [==============================] - 2s 17ms/step - loss: 0.8732 - val_loss: 0.8761\n",
      "Epoch 143/150\n",
      "129/129 [==============================] - 2s 15ms/step - loss: 0.8684 - val_loss: 0.8754\n",
      "Epoch 144/150\n",
      "129/129 [==============================] - 2s 17ms/step - loss: 0.8720 - val_loss: 0.8747\n",
      "Epoch 145/150\n",
      "129/129 [==============================] - 3s 25ms/step - loss: 0.8651 - val_loss: 0.8740\n",
      "Epoch 146/150\n",
      "129/129 [==============================] - 3s 20ms/step - loss: 0.8687 - val_loss: 0.8733\n",
      "Epoch 147/150\n",
      "129/129 [==============================] - 2s 14ms/step - loss: 0.8686 - val_loss: 0.8726\n",
      "Epoch 148/150\n",
      "129/129 [==============================] - 2s 15ms/step - loss: 0.8648 - val_loss: 0.8720\n",
      "Epoch 149/150\n",
      "129/129 [==============================] - 2s 16ms/step - loss: 0.8642 - val_loss: 0.8713\n",
      "Epoch 150/150\n",
      "129/129 [==============================] - 2s 16ms/step - loss: 0.8671 - val_loss: 0.8706\n",
      "129/129 [==============================] - 2s 8ms/step\n",
      "129/129 [==============================] - 2s 8ms/step\n"
     ]
    },
    {
     "data": {
      "text/plain": [
       "array([0.37276223, 0.51559687, 0.93424374, ..., 0.7495203 , 0.37561333,\n",
       "       0.5831395 ], dtype=float32)"
      ]
     },
     "execution_count": 12,
     "metadata": {},
     "output_type": "execute_result"
    }
   ],
   "source": [
    "dist_mean = tfp.layers.DistributionLambda( make_distribution_fn=model_distribution, convert_to_tensor_fn=tfp.distributions.Distribution.mean)(mean_sd_layer)\n",
    "dist_std = tfp.layers.DistributionLambda( make_distribution_fn=model_distribution, convert_to_tensor_fn=tfp.distributions.Distribution.stddev)(mean_sd_layer)\n",
    "model_distr = models.Model(inputs=inputs, outputs=dist)\n",
    "model_distr.compile(optimizers.Adagrad(learning_rate=0.001), loss=nll_loss)\n",
    "#the model for mean\n",
    "model_mean = models.Model(inputs=inputs, outputs=dist_mean)\n",
    "#the model for std\n",
    "model_sd = models.Model(inputs=inputs, outputs=dist_std)\n",
    "history = model_distr.fit(X_train_scaled, y_train, \n",
    "                          epochs=150, \n",
    "                          verbose=1, \n",
    "                          batch_size = 2**7, \n",
    "                          validation_data=(X_test_scaled,y_test))\n",
    "#mean predictions\n",
    "dl_mean_prediction  = model_mean.predict(X_test_scaled).reshape(-1)\n",
    "dl_mean_prediction\n",
    "#stand deviation predictions\n",
    "dl_sd_prediction = model_sd.predict(X_test_scaled).reshape(-1)\n",
    "dl_sd_prediction"
   ]
  },
  {
   "cell_type": "markdown",
   "metadata": {},
   "source": [
    "## Metrics\n",
    "\n",
    "The four metrics described below are the most common metrics in research."
   ]
  },
  {
   "cell_type": "markdown",
   "metadata": {},
   "source": [
    "### Validity / Coverage\n",
    "\n",
    "For a quantile prediction with some level 0 < α < 1, we expect that (100*α)% of observations are covered. For example, if α is 0.8, we expect that quantile predictions cover 80% of observations."
   ]
  },
  {
   "cell_type": "code",
   "execution_count": 14,
   "metadata": {},
   "outputs": [],
   "source": [
    "empirical_quantiles = []\n",
    "for quantile in quantiles:\n",
    "    empirical = (quantile_predictions[quantile] >= y_test).mean()\n",
    "    empirical_quantiles.append(empirical)"
   ]
  },
  {
   "cell_type": "code",
   "execution_count": 16,
   "metadata": {},
   "outputs": [
    {
     "data": {
      "image/png": "[encoded data removed]",
      "text/plain": [
       "<Figure size 1152x720 with 1 Axes>"
      ]
     },
     "metadata": {
      "needs_background": "light"
     },
     "output_type": "display_data"
    }
   ],
   "source": [
    "import matplotlib.pyplot as plt\n",
    "import seaborn as sns\n",
    "\n",
    "plt.figure(figsize=(16, 10))\n",
    "sns.set_context(\"notebook\", font_scale=2)\n",
    "sns.lineplot(x = quantiles, y = quantiles, color = \"magenta\", linestyle='--', linewidth=3, label = \"ideal\")\n",
    "sns.lineplot(x = quantiles, y = empirical_quantiles, color = \"black\", linestyle = \"dashdot\", linewidth=3, label = \"observed\")\n",
    "sns.scatterplot(x = quantiles, y = empirical_quantiles, marker=\"o\", s = 150)\n",
    "plt.legend()\n",
    "plt.xlabel(\"True Quantile\")\n",
    "plt.ylabel(\"Empirical Quantile\")\n",
    "_ = plt.title(\"Reliability diagram: assessment of quantile predictions\")"
   ]
  },
  {
   "cell_type": "markdown",
   "metadata": {},
   "source": [
    "### Sharpness / Interval Length\n",
    "\n",
    "Perfect probabilistic predictions should estimate 100% of the probability for a single value. In reality, a conditional distribution will allocate different probabilities for each possible outcome. Sharpness is a measure of how tight the predictive densities are. The narrower the interval length is, the more confident we can be about the prediction.\n",
    "\n",
    "![](https://miro.medium.com/max/630/1*Zg4dnO-QShN86vpeDInB-A.png)\n",
    "\n",
    "![](https://miro.medium.com/max/630/1*nXJCFEeGKQ2l1j6vKyEZwg.png)\n",
    "\n",
    "As the interval increases, the proportion of missing observations decreases but as we can see, LightGBM Quantile Regression has the highest number of biased observations followed by NGBoost."
   ]
  },
  {
   "cell_type": "markdown",
   "metadata": {},
   "source": [
    "### Negative Log Likelihood (NLL)\n",
    "\n",
    "The likelihood function describes the joint probability of the observed data as a function of the parameters of the chosen statistical model. \n",
    "\n",
    "This metric is suitable for algorithms that generate conditional probability distributions. Both NGBoost and Regression Neural Network are also using NLL as the loss function. \n",
    "\n",
    "NLL of the normal distribution is defined as the negative log of the probability density function of the normal distribution:\n",
    "\n",
    "![](https://miro.medium.com/max/630/1*uqszUelouR175CP94ZcBSA.png)\n",
    "\n",
    "\n",
    "The NLL is being evaluated at each observation using the parameters of the (normal) distribution. To compare NLL between algorithms we average NLLs across all observations. The lower the (average) NLL is the better the fit.\n",
    "\n",
    "Here is the visual comparison of predictive distributions of the first observation and its corresponding NLL for Regression Neural Network and NGBoost:\n",
    "\n",
    "![](https://miro.medium.com/max/630/1*FQyMhOSRxkPCl1K_Y72lOA.png)\n",
    "\n",
    "\n",
    "NLL for NGBoost can be calculated in several ways:\n",
    "\n",
    "NGBoost provides the function pred_dist that returns an object, which provides a logpdf function that calculates a log-likelihood for each observation. To get the NLL just negate the results. The final NLL is the average of individual NLLs"
   ]
  },
  {
   "cell_type": "code",
   "execution_count": 17,
   "metadata": {},
   "outputs": [
    {
     "data": {
      "text/plain": [
       "0.7016896460481001"
      ]
     },
     "execution_count": 17,
     "metadata": {},
     "output_type": "execute_result"
    }
   ],
   "source": [
    "ngb_dist_pred = ngb.pred_dist(X_test)\n",
    "nll_ngboost = -ngb_dist_pred.logpdf(y_test)\n",
    "nll_ngboost.mean()"
   ]
  },
  {
   "cell_type": "code",
   "execution_count": 18,
   "metadata": {},
   "outputs": [
    {
     "data": {
      "text/plain": [
       "{'loc': 0.6675750900516725, 'scale': 0.38128804876082506}"
      ]
     },
     "execution_count": 18,
     "metadata": {},
     "output_type": "execute_result"
    }
   ],
   "source": [
    "ngb_dist_pred[0].params"
   ]
  },
  {
   "cell_type": "code",
   "execution_count": 19,
   "metadata": {},
   "outputs": [
    {
     "data": {
      "text/plain": [
       "{'loc': array([0.66757509, 1.07930075, 3.86083596, ..., 4.59621213, 1.00234074,\n",
       "        1.93741837]),\n",
       " 'scale': array([0.38128805, 0.44117712, 1.15064006, ..., 0.59316368, 0.45316121,\n",
       "        0.4060272 ])}"
      ]
     },
     "execution_count": 19,
     "metadata": {},
     "output_type": "execute_result"
    }
   ],
   "source": [
    "ngb_dist_pred.params"
   ]
  },
  {
   "cell_type": "markdown",
   "metadata": {},
   "source": [
    "For Regression Neural Networks we iterate through all observations and their corresponding distribution parameters:"
   ]
  },
  {
   "cell_type": "code",
   "execution_count": 20,
   "metadata": {},
   "outputs": [
    {
     "name": "stdout",
     "output_type": "stream",
     "text": [
      "129/129 [==============================] - 1s 6ms/step\n",
      "129/129 [==============================] - 1s 6ms/step\n"
     ]
    }
   ],
   "source": [
    "from scipy import stats\n",
    "\n",
    "#extract mean predictions\n",
    "dl_mean_prediction = model_mean.predict(X_test_scaled).reshape(-1)\n",
    "#extract standard deviations\n",
    "dl_sd_prediction = model_sd.predict(X_test_scaled).reshape(-1)\n",
    "#iterate over all observations\n",
    "nll_dl = []\n",
    "for (true_mean, mean_temp, sd_temp) in zip(y_test, \n",
    "                                           dl_mean_prediction,\n",
    "                                           dl_sd_prediction):\n",
    "    nll_temp = -stats.norm.logpdf(true_mean, \n",
    "                                  loc = mean_temp, \n",
    "                                  scale = sd_temp)\n",
    "    nll_dl.append(nll_temp)"
   ]
  },
  {
   "cell_type": "code",
   "execution_count": 22,
   "metadata": {},
   "outputs": [
    {
     "data": {
      "text/plain": [
       "0.8705683416561047"
      ]
     },
     "execution_count": 22,
     "metadata": {},
     "output_type": "execute_result"
    }
   ],
   "source": [
    "import numpy as np\n",
    "\n",
    "np.mean(nll_dl)"
   ]
  },
  {
   "cell_type": "markdown",
   "metadata": {},
   "source": [
    "In terms of NLL, NGBoost got a lower value (-4.888) than Regression Neural Network (-1.566) so we can conclude that NGBoost has a better fit."
   ]
  },
  {
   "cell_type": "markdown",
   "metadata": {},
   "source": [
    "### Continuous Ranked Probability Score\n",
    "\n",
    "The Continuous Ranked Probability Score, known as CRPS, is a score to measure how a proposed distribution approximates the data, without knowledge about the true distributions of the data. "
   ]
  },
  {
   "cell_type": "code",
   "execution_count": 24,
   "metadata": {},
   "outputs": [
    {
     "data": {
      "text/plain": [
       "(0.2856995647086271, 0.33292387071684504)"
      ]
     },
     "execution_count": 24,
     "metadata": {},
     "output_type": "execute_result"
    }
   ],
   "source": [
    "#Computes the CRPS of observations x relative to normally distributed with mean, mu, and standard deviation, sig.\n",
    "import properscoring as ps\n",
    "crps_ngboost = ps.crps_gaussian(y_test, \n",
    "                               ngb_dist_pred.params[\"loc\"],\n",
    "                               ngb_dist_pred.params[\"scale\"]).mean()\n",
    "crps_dl = ps.crps_gaussian(y_test, \n",
    "                           dl_mean_prediction,  \n",
    "                           dl_sd_prediction).mean()\n",
    "(crps_ngboost, crps_dl)"
   ]
  },
  {
   "cell_type": "markdown",
   "metadata": {},
   "source": [
    "NGBoost has far smaller CRPS than Regression Neural Network which again suggests that NGBoost has a better fit."
   ]
  }
 ],
 "metadata": {
  "kernelspec": {
   "display_name": "Python 3.8.11 ('bru_ds')",
   "language": "python",
   "name": "python3"
  },
  "language_info": {
   "codemirror_mode": {
    "name": "ipython",
    "version": 3
   },
   "file_extension": ".py",
   "mimetype": "text/x-python",
   "name": "python",
   "nbconvert_exporter": "python",
   "pygments_lexer": "ipython3",
   "version": "3.8.11"
  },
  "orig_nbformat": 4,
  "vscode": {
   "interpreter": {
    "hash": "ba7033ad42021d8fde750941f7374709dc7fad13ee27a9cd8f3ab36e378bdd7b"
   }
  }
 },
 "nbformat": 4,
 "nbformat_minor": 2
}
